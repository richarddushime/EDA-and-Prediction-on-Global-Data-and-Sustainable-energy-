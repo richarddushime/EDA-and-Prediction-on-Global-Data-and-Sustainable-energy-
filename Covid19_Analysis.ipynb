{
  "metadata": {
    "kernelspec": {
      "language": "python",
      "display_name": "Python 3",
      "name": "python3"
    },
    "language_info": {
      "name": "python",
      "version": "3.10.14",
      "mimetype": "text/x-python",
      "codemirror_mode": {
        "name": "ipython",
        "version": 3
      },
      "pygments_lexer": "ipython3",
      "nbconvert_exporter": "python",
      "file_extension": ".py"
    },
    "kaggle": {
      "accelerator": "none",
      "dataSources": [
        {
          "sourceId": 9994773,
          "sourceType": "datasetVersion",
          "datasetId": 6151594
        }
      ],
      "dockerImageVersionId": 30804,
      "isInternetEnabled": true,
      "language": "python",
      "sourceType": "notebook",
      "isGpuEnabled": false
    },
    "colab": {
      "name": "Covid19-Analysis",
      "provenance": [],
      "include_colab_link": true
    }
  },
  "nbformat_minor": 0,
  "nbformat": 4,
  "cells": [
    {
      "cell_type": "markdown",
      "metadata": {
        "id": "view-in-github",
        "colab_type": "text"
      },
      "source": [
        "<a href=\"https://colab.research.google.com/github/richarddushime/EDA-and-Prediction-on-Global-Data-and-Sustainable-energy-/blob/main/Covid19_Analysis.ipynb\" target=\"_parent\"><img src=\"https://colab.research.google.com/assets/colab-badge.svg\" alt=\"Open In Colab\"/></a>"
      ]
    },
    {
      "source": [
        "# IMPORTANT: RUN THIS CELL IN ORDER TO IMPORT YOUR KAGGLE DATA SOURCES,\n",
        "# THEN FEEL FREE TO DELETE THIS CELL.\n",
        "# NOTE: THIS NOTEBOOK ENVIRONMENT DIFFERS FROM KAGGLE'S PYTHON\n",
        "# ENVIRONMENT SO THERE MAY BE MISSING LIBRARIES USED BY YOUR\n",
        "# NOTEBOOK.\n",
        "import kagglehub\n",
        "luisheitorribeiro_covid_19_fatalities_data_path = kagglehub.dataset_download('luisheitorribeiro/covid-19-fatalities-data')\n",
        "\n",
        "print('Data source import complete.')\n"
      ],
      "metadata": {
        "id": "EagvdAX0dsKL"
      },
      "cell_type": "code",
      "outputs": [],
      "execution_count": null
    },
    {
      "cell_type": "code",
      "source": [
        "import kagglehub\n",
        "import pandas as pd\n",
        "import matplotlib.pyplot as plt\n",
        "import seaborn as sns\n",
        "import numpy as np\n",
        "import sklearn  as sk\n",
        "from sklearn.model_selection import train_test_split\n",
        "from sklearn.linear_model import LinearRegression\n",
        "from sklearn.metrics import mean_squared_error, r2_score"
      ],
      "metadata": {
        "_uuid": "8f2839f25d086af736a60e9eeb907d3b93b6e0e5",
        "_cell_guid": "b1076dfc-b9ad-4769-8c92-a6c4dae69d19",
        "trusted": true,
        "execution": {
          "iopub.status.busy": "2024-12-15T15:26:23.288267Z",
          "iopub.execute_input": "2024-12-15T15:26:23.288678Z",
          "iopub.status.idle": "2024-12-15T15:26:23.294609Z",
          "shell.execute_reply.started": "2024-12-15T15:26:23.288647Z",
          "shell.execute_reply": "2024-12-15T15:26:23.293401Z"
        },
        "id": "AbBuhyDUdsKa"
      },
      "outputs": [],
      "execution_count": null
    },
    {
      "cell_type": "code",
      "source": [
        "# dataset download\n",
        "path = kagglehub.dataset_download(\"luisheitorribeiro/covid-19-fatalities-data\")\n",
        "\n",
        "print(\"Path to dataset files:\", path)"
      ],
      "metadata": {
        "trusted": true,
        "execution": {
          "iopub.status.busy": "2024-12-15T15:26:45.823867Z",
          "iopub.execute_input": "2024-12-15T15:26:45.824253Z",
          "iopub.status.idle": "2024-12-15T15:26:46.909567Z",
          "shell.execute_reply.started": "2024-12-15T15:26:45.824219Z",
          "shell.execute_reply": "2024-12-15T15:26:46.908454Z"
        },
        "id": "MrBJZzaPdsKf"
      },
      "outputs": [],
      "execution_count": null
    },
    {
      "cell_type": "code",
      "source": [
        "covid_global_data = pd.read_csv(path + \"/data_global_data.csv\")\n",
        "\n",
        "print(covid_global_data.head())\n",
        "print(\"--------------------------------------------------\")\n",
        "print(\"\")\n",
        "print(covid_global_data.tail())\n"
      ],
      "metadata": {
        "trusted": true,
        "execution": {
          "iopub.status.busy": "2024-12-15T15:32:03.673701Z",
          "iopub.execute_input": "2024-12-15T15:32:03.674071Z",
          "iopub.status.idle": "2024-12-15T15:32:03.780763Z",
          "shell.execute_reply.started": "2024-12-15T15:32:03.674039Z",
          "shell.execute_reply": "2024-12-15T15:32:03.779658Z"
        },
        "id": "sIifGJe7dsKh"
      },
      "outputs": [],
      "execution_count": null
    },
    {
      "cell_type": "code",
      "source": [
        "covid_global_data.shape"
      ],
      "metadata": {
        "trusted": true,
        "execution": {
          "iopub.status.busy": "2024-12-15T15:35:17.040887Z",
          "iopub.execute_input": "2024-12-15T15:35:17.041272Z",
          "iopub.status.idle": "2024-12-15T15:35:17.048142Z",
          "shell.execute_reply.started": "2024-12-15T15:35:17.041236Z",
          "shell.execute_reply": "2024-12-15T15:35:17.0468Z"
        },
        "id": "8gBR-HSXdsKi"
      },
      "outputs": [],
      "execution_count": null
    },
    {
      "cell_type": "code",
      "source": [
        "covid_global_data.info()"
      ],
      "metadata": {
        "trusted": true,
        "execution": {
          "iopub.status.busy": "2024-12-15T15:35:36.633589Z",
          "iopub.execute_input": "2024-12-15T15:35:36.633977Z",
          "iopub.status.idle": "2024-12-15T15:35:36.680323Z",
          "shell.execute_reply.started": "2024-12-15T15:35:36.633942Z",
          "shell.execute_reply": "2024-12-15T15:35:36.679187Z"
        },
        "id": "vj9SwqVGdsKk"
      },
      "outputs": [],
      "execution_count": null
    },
    {
      "cell_type": "code",
      "source": [
        "covid_global_data.describe()"
      ],
      "metadata": {
        "trusted": true,
        "execution": {
          "iopub.status.busy": "2024-12-15T15:36:03.343706Z",
          "iopub.execute_input": "2024-12-15T15:36:03.344107Z",
          "iopub.status.idle": "2024-12-15T15:36:03.379292Z",
          "shell.execute_reply.started": "2024-12-15T15:36:03.344076Z",
          "shell.execute_reply": "2024-12-15T15:36:03.378122Z"
        },
        "id": "ykXxNOeCdsKp"
      },
      "outputs": [],
      "execution_count": null
    },
    {
      "cell_type": "code",
      "source": [
        "covid_global_data.isnull().sum()"
      ],
      "metadata": {
        "trusted": true,
        "execution": {
          "iopub.status.busy": "2024-12-15T15:38:51.250744Z",
          "iopub.execute_input": "2024-12-15T15:38:51.251194Z",
          "iopub.status.idle": "2024-12-15T15:38:51.281437Z",
          "shell.execute_reply.started": "2024-12-15T15:38:51.251157Z",
          "shell.execute_reply": "2024-12-15T15:38:51.280423Z"
        },
        "id": "04hU4BY-dsKs"
      },
      "outputs": [],
      "execution_count": null
    },
    {
      "cell_type": "code",
      "source": [
        "# # Fill missing values with mean/median for numeric columns or 'Unknown' for categorical\n",
        "# for i in covid_global_data.columns:\n",
        "#     if covid_global_data[i].dtype == 'float64' or covid_global_data[i].dtype == 'int64':\n",
        "#         covid_global_data[i].fillna({\"deaths\" and \"daily_deaths\": covid_global_data[i].mean()}, inplace=True)\n",
        "#     else:\n",
        "#         covid_global_data[i].fillna('Unknown', inplace=True)\n"
      ],
      "metadata": {
        "trusted": true,
        "execution": {
          "iopub.status.busy": "2024-12-15T15:41:02.276387Z",
          "iopub.execute_input": "2024-12-15T15:41:02.27685Z",
          "iopub.status.idle": "2024-12-15T15:41:02.281995Z",
          "shell.execute_reply.started": "2024-12-15T15:41:02.276812Z",
          "shell.execute_reply": "2024-12-15T15:41:02.280897Z"
        },
        "id": "qZXmdQfOdsKu"
      },
      "outputs": [],
      "execution_count": null
    },
    {
      "cell_type": "code",
      "source": [
        "# date conversion to supported format\n",
        "covid_global_data['date']=pd.to_datetime(covid_global_data['date'])"
      ],
      "metadata": {
        "trusted": true,
        "execution": {
          "iopub.status.busy": "2024-12-15T15:47:21.252567Z",
          "iopub.execute_input": "2024-12-15T15:47:21.252987Z",
          "iopub.status.idle": "2024-12-15T15:47:21.267715Z",
          "shell.execute_reply.started": "2024-12-15T15:47:21.252949Z",
          "shell.execute_reply": "2024-12-15T15:47:21.266345Z"
        },
        "id": "D37pyZhhdsKv"
      },
      "outputs": [],
      "execution_count": null
    },
    {
      "cell_type": "code",
      "source": [
        "covid_global_data.date.info()"
      ],
      "metadata": {
        "trusted": true,
        "execution": {
          "iopub.status.busy": "2024-12-15T15:48:09.313377Z",
          "iopub.execute_input": "2024-12-15T15:48:09.313797Z",
          "iopub.status.idle": "2024-12-15T15:48:09.325668Z",
          "shell.execute_reply.started": "2024-12-15T15:48:09.313759Z",
          "shell.execute_reply": "2024-12-15T15:48:09.324587Z"
        },
        "id": "yh1SaXbPdsKw"
      },
      "outputs": [],
      "execution_count": null
    },
    {
      "cell_type": "code",
      "source": [
        "# filtering necessary columns\n",
        "da_covid_global = covid_global_data[[\"country\",\"date\",\"deaths\",\"daily_deaths\"]]"
      ],
      "metadata": {
        "trusted": true,
        "execution": {
          "iopub.status.busy": "2024-12-15T15:52:10.83051Z",
          "iopub.execute_input": "2024-12-15T15:52:10.830971Z",
          "iopub.status.idle": "2024-12-15T15:52:10.841063Z",
          "shell.execute_reply.started": "2024-12-15T15:52:10.830931Z",
          "shell.execute_reply": "2024-12-15T15:52:10.840116Z"
        },
        "id": "iuNzlzMcdsKx"
      },
      "outputs": [],
      "execution_count": null
    },
    {
      "cell_type": "code",
      "source": [
        "da_covid_global.info()"
      ],
      "metadata": {
        "trusted": true,
        "execution": {
          "iopub.status.busy": "2024-12-15T15:53:34.949821Z",
          "iopub.execute_input": "2024-12-15T15:53:34.950738Z",
          "iopub.status.idle": "2024-12-15T15:53:34.978216Z",
          "shell.execute_reply.started": "2024-12-15T15:53:34.950684Z",
          "shell.execute_reply": "2024-12-15T15:53:34.977097Z"
        },
        "id": "6YHNFVA2dsKy"
      },
      "outputs": [],
      "execution_count": null
    },
    {
      "cell_type": "code",
      "source": [
        "# Deaths over time\n",
        "plt.figure(figsize=(12,6))\n",
        "sns.lineplot(data=da_covid_global, x=\"date\", y=\"deaths\")\n",
        "plt.xlabel(\"Dates\")\n",
        "plt.ylabel(\"Deaths over time\")\n",
        "plt.xticks(rotation=45)\n",
        "plt.legend(title=\"Total Deaths\")\n",
        "plt.title(\"Deaths over time\")\n",
        "plt.show()"
      ],
      "metadata": {
        "trusted": true,
        "execution": {
          "iopub.status.busy": "2024-12-15T16:05:29.292462Z",
          "iopub.execute_input": "2024-12-15T16:05:29.292898Z",
          "iopub.status.idle": "2024-12-15T16:05:51.850397Z",
          "shell.execute_reply.started": "2024-12-15T16:05:29.292862Z",
          "shell.execute_reply": "2024-12-15T16:05:51.8494Z"
        },
        "id": "yfmsedJvdsKz"
      },
      "outputs": [],
      "execution_count": null
    },
    {
      "cell_type": "code",
      "source": [
        "plt.figure(figsize=(12,6))\n",
        "sns.lineplot(data=da_covid_global, x=\"date\", y=\"daily_deaths\")\n",
        "plt.xlabel(\"Dates\")\n",
        "plt.ylabel(\"Total Daily Deaths\")\n",
        "plt.legend(title=\"Daily Deaths\")\n",
        "plt.show()"
      ],
      "metadata": {
        "trusted": true,
        "execution": {
          "iopub.status.busy": "2024-12-15T16:09:53.065514Z",
          "iopub.execute_input": "2024-12-15T16:09:53.066479Z",
          "iopub.status.idle": "2024-12-15T16:10:14.536664Z",
          "shell.execute_reply.started": "2024-12-15T16:09:53.066436Z",
          "shell.execute_reply": "2024-12-15T16:10:14.535561Z"
        },
        "id": "xnkK2cPedsK0"
      },
      "outputs": [],
      "execution_count": null
    },
    {
      "cell_type": "code",
      "source": [
        "# per country = Afghanistan deaths plot\n",
        "afghanistan_data = covid_global_data[covid_global_data[\"country\"] == \"Afghanistan\"]\n",
        "\n",
        "plt.figure(figsize=(12, 6))\n",
        "sns.lineplot(data=afghanistan_data, x=\"date\", y=\"deaths\")\n",
        "plt.legend(title=\"Total Afghanistan Deaths Over Time\")\n",
        "plt.xlabel(\"Date\")\n",
        "plt.ylabel(\"Total Afghanistan Deaths\")"
      ],
      "metadata": {
        "trusted": true,
        "execution": {
          "iopub.status.busy": "2024-12-15T16:36:18.095654Z",
          "iopub.execute_input": "2024-12-15T16:36:18.096086Z",
          "iopub.status.idle": "2024-12-15T16:36:18.539743Z",
          "shell.execute_reply.started": "2024-12-15T16:36:18.096051Z",
          "shell.execute_reply": "2024-12-15T16:36:18.53863Z"
        },
        "id": "K3nLN2-adsK1"
      },
      "outputs": [],
      "execution_count": null
    },
    {
      "cell_type": "code",
      "source": [
        "# correlation\n",
        "da_covid_global = da_covid_global[[\"date\",\"deaths\",\"daily_deaths\"]]\n",
        "correlation_matrix = da_covid_global.corr()\n",
        "plt.figure(figsize=(12,6))\n",
        "sns.heatmap(data=correlation_matrix,annot=True, cmap=\"coolwarm\", fmt=\".2f\")\n",
        "plt.title(\"Correlation Matrix\")\n",
        "plt.show()"
      ],
      "metadata": {
        "trusted": true,
        "execution": {
          "iopub.status.busy": "2024-12-15T16:45:21.613561Z",
          "iopub.execute_input": "2024-12-15T16:45:21.613976Z",
          "iopub.status.idle": "2024-12-15T16:45:21.917458Z",
          "shell.execute_reply.started": "2024-12-15T16:45:21.613942Z",
          "shell.execute_reply": "2024-12-15T16:45:21.916448Z"
        },
        "id": "bQ535ZCfdsK1"
      },
      "outputs": [],
      "execution_count": null
    },
    {
      "cell_type": "code",
      "source": [
        "# # preparing data for modeling\n",
        "# #feature engineering\n",
        "da_covid_global[\"month\"] = covid_global_data[\"date\"].dt.month\n",
        "da_covid_global[\"day_of_week\"] = covid_global_data[\"date\"].dt.dayofweek\n",
        "da_covid_global[\"day_of_month\"] = covid_global_data[\"date\"].dt.day"
      ],
      "metadata": {
        "trusted": true,
        "execution": {
          "iopub.status.busy": "2024-12-15T17:01:14.376271Z",
          "iopub.execute_input": "2024-12-15T17:01:14.377452Z",
          "iopub.status.idle": "2024-12-15T17:01:14.414435Z",
          "shell.execute_reply.started": "2024-12-15T17:01:14.377389Z",
          "shell.execute_reply": "2024-12-15T17:01:14.413366Z"
        },
        "id": "iBXaOe99dsK4"
      },
      "outputs": [],
      "execution_count": null
    },
    {
      "cell_type": "code",
      "source": [
        "# lag features\n",
        "da_covid_global[\"deaths_lag_1\"] = covid_global_data[\"daily_deaths\"].shift(1)\n",
        "da_covid_global[\"deaths_lag_7\"] = covid_global_data[\"daily_deaths\"].shift(7)\n",
        "da_covid_global[\"deaths_lag_30\"] = covid_global_data[\"daily_deaths\"].shift(30)"
      ],
      "metadata": {
        "trusted": true,
        "execution": {
          "iopub.status.busy": "2024-12-15T17:01:19.33314Z",
          "iopub.execute_input": "2024-12-15T17:01:19.333804Z",
          "iopub.status.idle": "2024-12-15T17:01:19.342593Z",
          "shell.execute_reply.started": "2024-12-15T17:01:19.333762Z",
          "shell.execute_reply": "2024-12-15T17:01:19.341528Z"
        },
        "id": "Ozv1GaZ8dsK5"
      },
      "outputs": [],
      "execution_count": null
    },
    {
      "cell_type": "code",
      "source": [
        "da_covid_global.dropna(inplace=True)\n"
      ],
      "metadata": {
        "trusted": true,
        "execution": {
          "iopub.status.busy": "2024-12-15T17:15:14.14272Z",
          "iopub.execute_input": "2024-12-15T17:15:14.143133Z",
          "iopub.status.idle": "2024-12-15T17:15:14.163478Z",
          "shell.execute_reply.started": "2024-12-15T17:15:14.143098Z",
          "shell.execute_reply": "2024-12-15T17:15:14.162517Z"
        },
        "id": "uIz9uuF8dsK6"
      },
      "outputs": [],
      "execution_count": null
    },
    {
      "cell_type": "code",
      "source": [
        "# Define features and target variable\n",
        "x_features = [\"month\", \"day_of_week\", \"day_of_month\", \"deaths_lag_1\", \"deaths_lag_7\", \"deaths_lag_30\"]\n",
        "y_target = \"daily_deaths\""
      ],
      "metadata": {
        "trusted": true,
        "execution": {
          "iopub.status.busy": "2024-12-15T17:15:26.098601Z",
          "iopub.execute_input": "2024-12-15T17:15:26.09898Z",
          "iopub.status.idle": "2024-12-15T17:15:26.104183Z",
          "shell.execute_reply.started": "2024-12-15T17:15:26.098948Z",
          "shell.execute_reply": "2024-12-15T17:15:26.103002Z"
        },
        "id": "YrxkN0sqdsK6"
      },
      "outputs": [],
      "execution_count": null
    },
    {
      "cell_type": "code",
      "source": [
        "x_train,x_test,y_train,y_test = train_test_split(da_covid_global[x_features],da_covid_global[y_target], test_size=0.2, random_state=42)"
      ],
      "metadata": {
        "trusted": true,
        "execution": {
          "iopub.status.busy": "2024-12-15T17:15:33.742846Z",
          "iopub.execute_input": "2024-12-15T17:15:33.743257Z",
          "iopub.status.idle": "2024-12-15T17:15:33.787879Z",
          "shell.execute_reply.started": "2024-12-15T17:15:33.743206Z",
          "shell.execute_reply": "2024-12-15T17:15:33.786904Z"
        },
        "id": "SK6N2E5FdsK7"
      },
      "outputs": [],
      "execution_count": null
    },
    {
      "cell_type": "code",
      "source": [
        "from sklearn.ensemble import RandomForestRegressor\n",
        "\n",
        "model = RandomForestRegressor(n_estimators=100, random_state=42)\n",
        "\n",
        "# model.fit(x_train,y_train)"
      ],
      "metadata": {
        "trusted": true,
        "execution": {
          "iopub.status.busy": "2024-12-15T17:16:07.207612Z",
          "iopub.execute_input": "2024-12-15T17:16:07.208691Z",
          "iopub.status.idle": "2024-12-15T17:16:07.213137Z",
          "shell.execute_reply.started": "2024-12-15T17:16:07.208647Z",
          "shell.execute_reply": "2024-12-15T17:16:07.212077Z"
        },
        "id": "Dir6e_6JdsK8"
      },
      "outputs": [],
      "execution_count": null
    },
    {
      "cell_type": "code",
      "source": [
        "model.fit(x_train, y_train)"
      ],
      "metadata": {
        "trusted": true,
        "execution": {
          "iopub.status.busy": "2024-12-15T17:16:10.233174Z",
          "iopub.execute_input": "2024-12-15T17:16:10.233615Z",
          "iopub.status.idle": "2024-12-15T17:16:57.619496Z",
          "shell.execute_reply.started": "2024-12-15T17:16:10.23357Z",
          "shell.execute_reply": "2024-12-15T17:16:57.618329Z"
        },
        "id": "zXDeb6xidsK8"
      },
      "outputs": [],
      "execution_count": null
    },
    {
      "cell_type": "code",
      "source": [
        "from sklearn.metrics import mean_squared_error, r2_score\n",
        "\n",
        "y_pred = model.predict(x_test)\n",
        "mse= mean_squared_error(y_test, y_pred)\n",
        "r2 = r2_score(y_test, y_pred)\n",
        "\n",
        "print(f\"Mean Squared Error: {mse}\")\n",
        "print(f\"R-squared : {r2}\")\n"
      ],
      "metadata": {
        "trusted": true,
        "execution": {
          "iopub.status.busy": "2024-12-15T17:26:40.392277Z",
          "iopub.execute_input": "2024-12-15T17:26:40.392735Z",
          "iopub.status.idle": "2024-12-15T17:26:41.84828Z",
          "shell.execute_reply.started": "2024-12-15T17:26:40.39269Z",
          "shell.execute_reply": "2024-12-15T17:26:41.84715Z"
        },
        "id": "Ydqb71sNdsK-"
      },
      "outputs": [],
      "execution_count": null
    },
    {
      "cell_type": "code",
      "source": [
        "# forecast next year\n",
        "future_dates = pd.date_range(start=da_covid_global[\"date\"].max(), periods=365, freq=\"D\")\n",
        "#initialize future data\n",
        "future_data = pd.DataFrame({\"date\": future_dates})\n",
        "\n",
        "#adding lagged features\n",
        "future_data[\"month\"] = future_data[\"date\"].dt.month\n",
        "future_data[\"day_of_week\"] = future_data[\"date\"].dt.dayofweek\n",
        "future_data[\"day_of_month\"] = future_data[\"date\"].dt.day\n",
        "future_data[\"deaths_lag_1\"] = covid_global_data[\"daily_deaths\"].shift(1)\n",
        "future_data[\"deaths_lag_7\"] = covid_global_data[\"daily_deaths\"].shift(7)\n",
        "future_data[\"deaths_lag_30\"] = covid_global_data[\"daily_deaths\"].shift(30)\n",
        "\n",
        "future_data\n"
      ],
      "metadata": {
        "trusted": true,
        "execution": {
          "iopub.status.busy": "2024-12-15T17:29:31.359794Z",
          "iopub.execute_input": "2024-12-15T17:29:31.360221Z",
          "iopub.status.idle": "2024-12-15T17:29:31.392814Z",
          "shell.execute_reply.started": "2024-12-15T17:29:31.360186Z",
          "shell.execute_reply": "2024-12-15T17:29:31.391591Z"
        },
        "id": "AFmcc5B1dsK_"
      },
      "outputs": [],
      "execution_count": null
    },
    {
      "cell_type": "code",
      "source": [
        "future_data.dropna(inplace=True)"
      ],
      "metadata": {
        "trusted": true,
        "execution": {
          "iopub.status.busy": "2024-12-15T17:35:13.51162Z",
          "iopub.execute_input": "2024-12-15T17:35:13.512358Z",
          "iopub.status.idle": "2024-12-15T17:35:13.519013Z",
          "shell.execute_reply.started": "2024-12-15T17:35:13.512308Z",
          "shell.execute_reply": "2024-12-15T17:35:13.517917Z"
        },
        "id": "vsB_BGxZdsK_"
      },
      "outputs": [],
      "execution_count": null
    },
    {
      "cell_type": "code",
      "source": [
        "# predict futures data\n",
        "future_predictions = model.predict(future_data[x_features])\n",
        "# fill in lagged features\n",
        "future_data[\"daily_deaths\"] = future_predictions\n",
        "\n",
        "future_data.head()"
      ],
      "metadata": {
        "trusted": true,
        "execution": {
          "iopub.status.busy": "2024-12-15T17:35:17.084298Z",
          "iopub.execute_input": "2024-12-15T17:35:17.085193Z",
          "iopub.status.idle": "2024-12-15T17:35:17.132475Z",
          "shell.execute_reply.started": "2024-12-15T17:35:17.085144Z",
          "shell.execute_reply": "2024-12-15T17:35:17.131416Z"
        },
        "id": "pGUNaSkodsLA"
      },
      "outputs": [],
      "execution_count": null
    },
    {
      "cell_type": "code",
      "source": [
        "future_data.describe()"
      ],
      "metadata": {
        "trusted": true,
        "execution": {
          "iopub.status.busy": "2024-12-15T17:36:28.341678Z",
          "iopub.execute_input": "2024-12-15T17:36:28.342097Z",
          "iopub.status.idle": "2024-12-15T17:36:28.377751Z",
          "shell.execute_reply.started": "2024-12-15T17:36:28.342062Z",
          "shell.execute_reply": "2024-12-15T17:36:28.376282Z"
        },
        "id": "gK00BuDwdsLA"
      },
      "outputs": [],
      "execution_count": null
    },
    {
      "cell_type": "code",
      "source": [
        "# visualizing the future data and trends\n",
        "plt.figure(figsize=(12, 6))\n",
        "sns.lineplot(data=future_data, x=\"date\", y=\"daily_deaths\")\n",
        "plt.title(\"Future Daily Deaths Over Time\")\n",
        "plt.xlabel(\"Date\")\n",
        "plt.ylabel(\"Future Daily Deaths\")\n",
        "plt.xticks(rotation=45)\n",
        "plt.show()"
      ],
      "metadata": {
        "trusted": true,
        "execution": {
          "iopub.status.busy": "2024-12-15T17:37:09.214949Z",
          "iopub.execute_input": "2024-12-15T17:37:09.215311Z",
          "iopub.status.idle": "2024-12-15T17:37:09.54465Z",
          "shell.execute_reply.started": "2024-12-15T17:37:09.215278Z",
          "shell.execute_reply": "2024-12-15T17:37:09.54332Z"
        },
        "id": "HUF_fgMwdsLB"
      },
      "outputs": [],
      "execution_count": null
    },
    {
      "cell_type": "code",
      "source": [
        "# future deaths over time\n",
        "plt.figure(figsize=(12, 6))\n",
        "sns.lineplot(data=future_data, x=\"month\", y=\"daily_deaths\")\n",
        "plt.title(\"Future Daily Deaths Over Time\")\n",
        "plt.xlabel(\"month\")\n",
        "plt.ylabel(\"Future Daily Deaths\")\n",
        "plt.xticks(rotation=45)\n",
        "plt.show()"
      ],
      "metadata": {
        "trusted": true,
        "execution": {
          "iopub.status.busy": "2024-12-15T17:37:51.311198Z",
          "iopub.execute_input": "2024-12-15T17:37:51.311577Z",
          "iopub.status.idle": "2024-12-15T17:37:51.753388Z",
          "shell.execute_reply.started": "2024-12-15T17:37:51.311524Z",
          "shell.execute_reply": "2024-12-15T17:37:51.752446Z"
        },
        "id": "s93UUV2adsLB"
      },
      "outputs": [],
      "execution_count": null
    },
    {
      "cell_type": "code",
      "source": [
        "# Descriptive statistics of future daily deaths\n",
        "old = covid_global_data[\"daily_deaths\"].describe()\n",
        "\n",
        "\n",
        "future= future_data[\"daily_deaths\"].describe()\n",
        "print(old)\n",
        "print(\"=======================================\")\n",
        "print(future)\n"
      ],
      "metadata": {
        "trusted": true,
        "execution": {
          "iopub.status.busy": "2024-12-15T17:38:54.64743Z",
          "iopub.execute_input": "2024-12-15T17:38:54.64791Z",
          "iopub.status.idle": "2024-12-15T17:38:54.668767Z",
          "shell.execute_reply.started": "2024-12-15T17:38:54.647872Z",
          "shell.execute_reply": "2024-12-15T17:38:54.667606Z"
        },
        "id": "jAAuKQBQdsLC"
      },
      "outputs": [],
      "execution_count": null
    },
    {
      "cell_type": "code",
      "source": [
        "# Check for seasonal trends\n",
        "\n",
        "future_data['month'] = future_data['date'].dt.month\n",
        "monthly_means = future_data.groupby('month')['daily_deaths'].mean()\n",
        "\n",
        "# Plot monthly averages\n",
        "plt.figure(figsize=(12, 6))\n",
        "plt.plot(monthly_means.index, monthly_means.values, marker='o', linestyle='-')\n"
      ],
      "metadata": {
        "trusted": true,
        "execution": {
          "iopub.status.busy": "2024-12-15T17:40:08.637319Z",
          "iopub.execute_input": "2024-12-15T17:40:08.637725Z",
          "iopub.status.idle": "2024-12-15T17:40:08.942859Z",
          "shell.execute_reply.started": "2024-12-15T17:40:08.637688Z",
          "shell.execute_reply": "2024-12-15T17:40:08.941649Z"
        },
        "id": "MzDfP3DvdsLD"
      },
      "outputs": [],
      "execution_count": null
    },
    {
      "cell_type": "code",
      "source": [
        "# Compare historical data (last year) and future predictions\n",
        "historical_mean = covid_global_data['daily_deaths'].mean()\n",
        "future_mean = future_data['daily_deaths'].mean()\n",
        "\n",
        "print(f\"Historical Mean: {historical_mean}, Future Mean: {future_mean}\")\n"
      ],
      "metadata": {
        "trusted": true,
        "execution": {
          "iopub.status.busy": "2024-12-15T17:41:00.950883Z",
          "iopub.execute_input": "2024-12-15T17:41:00.951331Z",
          "iopub.status.idle": "2024-12-15T17:41:00.959526Z",
          "shell.execute_reply.started": "2024-12-15T17:41:00.951289Z",
          "shell.execute_reply": "2024-12-15T17:41:00.958204Z"
        },
        "id": "jXCKUzfxdsLE"
      },
      "outputs": [],
      "execution_count": null
    },
    {
      "cell_type": "code",
      "source": [
        "# Find dates with peak deaths\n",
        "peak_dates = future_data[future_data['daily_deaths'] == future_data['daily_deaths'].max()]\n",
        "print(\"Peak Death Dates:\", peak_dates)\n",
        "\n",
        "print(\"==============================================\")\n",
        "# Find low points\n",
        "low_dates = future_data[future_data['daily_deaths'] == future_data['daily_deaths'].min()]\n",
        "print(\"Lowest Death Dates:\", low_dates)\n"
      ],
      "metadata": {
        "trusted": true,
        "execution": {
          "iopub.status.busy": "2024-12-15T17:42:20.681084Z",
          "iopub.execute_input": "2024-12-15T17:42:20.681558Z",
          "iopub.status.idle": "2024-12-15T17:42:20.696857Z",
          "shell.execute_reply.started": "2024-12-15T17:42:20.681501Z",
          "shell.execute_reply": "2024-12-15T17:42:20.695434Z"
        },
        "id": "vXkvqe98dsLE"
      },
      "outputs": [],
      "execution_count": null
    },
    {
      "cell_type": "code",
      "source": [
        "# conlusion\n",
        "# The analysis of future COVID-19 fatalities predicts an average of [] daily deaths,\n",
        "# with potential peaks reaching up to 92 deaths."
      ],
      "metadata": {
        "trusted": true,
        "execution": {
          "iopub.status.busy": "2024-12-15T17:47:56.28272Z",
          "iopub.execute_input": "2024-12-15T17:47:56.283839Z",
          "iopub.status.idle": "2024-12-15T17:47:56.288475Z",
          "shell.execute_reply.started": "2024-12-15T17:47:56.28377Z",
          "shell.execute_reply": "2024-12-15T17:47:56.28731Z"
        },
        "id": "OXPEjzBadsLF"
      },
      "outputs": [],
      "execution_count": null
    }
  ]
}