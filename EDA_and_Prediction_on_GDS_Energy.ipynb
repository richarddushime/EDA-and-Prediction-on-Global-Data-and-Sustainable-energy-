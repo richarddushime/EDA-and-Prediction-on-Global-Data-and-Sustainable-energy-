{
  "metadata": {
    "kernelspec": {
      "language": "python",
      "display_name": "Python 3",
      "name": "python3"
    },
    "language_info": {
      "name": "python",
      "version": "3.10.12",
      "mimetype": "text/x-python",
      "codemirror_mode": {
        "name": "ipython",
        "version": 3
      },
      "pygments_lexer": "ipython3",
      "nbconvert_exporter": "python",
      "file_extension": ".py"
    },
    "kaggle": {
      "accelerator": "none",
      "dataSources": [
        {
          "sourceId": 6327347,
          "sourceType": "datasetVersion",
          "datasetId": 3597085
        }
      ],
      "dockerImageVersionId": 30822,
      "isInternetEnabled": true,
      "language": "python",
      "sourceType": "notebook",
      "isGpuEnabled": false
    },
    "colab": {
      "name": "EDA and Prediction on GDS Energy  ",
      "provenance": [],
      "include_colab_link": true
    }
  },
  "nbformat_minor": 0,
  "nbformat": 4,
  "cells": [
    {
      "cell_type": "markdown",
      "metadata": {
        "id": "view-in-github",
        "colab_type": "text"
      },
      "source": [
        "<a href=\"https://colab.research.google.com/github/richarddushime/EDA-and-Prediction-on-Global-Data-and-Sustainable-energy-/blob/main/EDA_and_Prediction_on_GDS_Energy.ipynb\" target=\"_parent\"><img src=\"https://colab.research.google.com/assets/colab-badge.svg\" alt=\"Open In Colab\"/></a>"
      ]
    },
    {
      "source": [
        "# IMPORTANT: RUN THIS CELL IN ORDER TO IMPORT YOUR KAGGLE DATA SOURCES,\n",
        "# THEN FEEL FREE TO DELETE THIS CELL.\n",
        "# NOTE: THIS NOTEBOOK ENVIRONMENT DIFFERS FROM KAGGLE'S PYTHON\n",
        "# ENVIRONMENT SO THERE MAY BE MISSING LIBRARIES USED BY YOUR\n",
        "# NOTEBOOK.\n",
        "import kagglehub\n",
        "anshtanwar_global_data_on_sustainable_energy_path = kagglehub.dataset_download('anshtanwar/global-data-on-sustainable-energy')\n",
        "\n",
        "print('Data source import complete.')\n"
      ],
      "metadata": {
        "id": "y_eJpSkdbRt3"
      },
      "cell_type": "code",
      "outputs": [],
      "execution_count": null
    },
    {
      "cell_type": "markdown",
      "source": [
        "# Global Data on Sustainable Energy From 2000 to 2020\n",
        "This is a Deep Exploratory Data Analysis and Model prediction on Global Energy Consumption overtime and I Added a Neural Network Model to predict the Access to electricity overtime\n",
        "\n",
        "The Dataset is Available on Kaggle and Public\n",
        "\n",
        "My Focus:\n",
        "1. Deep Exploratory Data Analysis\n",
        "2. Energy Consumption prediction using  Regression Model\n",
        "3. Energy Access Classification: Build a Neural Network Model to predict the Access to electricity over time\n",
        "\n",
        "Enjoy and Hope it helps"
      ],
      "metadata": {
        "id": "Q6hksb-9bRuE"
      }
    },
    {
      "cell_type": "code",
      "source": [
        "import pandas as pd\n",
        "import numpy as np\n",
        "import matplotlib.pyplot as plt\n",
        "import seaborn as sns\n",
        "import warnings\n",
        "\n",
        "warnings.filterwarnings(\"ignore\")\n"
      ],
      "metadata": {
        "_uuid": "8f2839f25d086af736a60e9eeb907d3b93b6e0e5",
        "_cell_guid": "b1076dfc-b9ad-4769-8c92-a6c4dae69d19",
        "trusted": true,
        "execution": {
          "iopub.status.busy": "2025-01-08T19:26:45.114142Z",
          "iopub.execute_input": "2025-01-08T19:26:45.1147Z",
          "iopub.status.idle": "2025-01-08T19:26:45.12051Z",
          "shell.execute_reply.started": "2025-01-08T19:26:45.114653Z",
          "shell.execute_reply": "2025-01-08T19:26:45.119255Z"
        },
        "id": "stDxNmvBbRuI"
      },
      "outputs": [],
      "execution_count": null
    },
    {
      "cell_type": "code",
      "source": [
        "df = pd.read_csv('/kaggle/input/global-data-on-sustainable-energy/global-data-on-sustainable-energy (1).csv')"
      ],
      "metadata": {
        "trusted": true,
        "execution": {
          "iopub.status.busy": "2025-01-08T19:26:49.638492Z",
          "iopub.execute_input": "2025-01-08T19:26:49.63892Z",
          "iopub.status.idle": "2025-01-08T19:26:49.663946Z",
          "shell.execute_reply.started": "2025-01-08T19:26:49.638888Z",
          "shell.execute_reply": "2025-01-08T19:26:49.662841Z"
        },
        "id": "Z97lTbPgbRuJ"
      },
      "outputs": [],
      "execution_count": null
    },
    {
      "cell_type": "code",
      "source": [
        "print(\"Dataset Preview:\")\n",
        "print(df.head(1))\n",
        "\n",
        "print(\"====================================\")\n",
        "print(\"\")\n",
        "print(\"====================================\")\n",
        "\n",
        "print(df.tail(1))"
      ],
      "metadata": {
        "trusted": true,
        "execution": {
          "iopub.status.busy": "2025-01-08T19:26:52.870466Z",
          "iopub.execute_input": "2025-01-08T19:26:52.870915Z",
          "iopub.status.idle": "2025-01-08T19:26:52.893272Z",
          "shell.execute_reply.started": "2025-01-08T19:26:52.870878Z",
          "shell.execute_reply": "2025-01-08T19:26:52.892117Z"
        },
        "id": "e2vRleWsbRuK"
      },
      "outputs": [],
      "execution_count": null
    },
    {
      "cell_type": "code",
      "source": [
        "# Overview of the dataset\n",
        "print(\"Dataset Information:\")\n",
        "print(df.info())"
      ],
      "metadata": {
        "trusted": true,
        "execution": {
          "iopub.status.busy": "2025-01-08T19:26:58.137587Z",
          "iopub.execute_input": "2025-01-08T19:26:58.137959Z",
          "iopub.status.idle": "2025-01-08T19:26:58.151513Z",
          "shell.execute_reply.started": "2025-01-08T19:26:58.137932Z",
          "shell.execute_reply": "2025-01-08T19:26:58.150315Z"
        },
        "id": "93G6Mkl7bRuK"
      },
      "outputs": [],
      "execution_count": null
    },
    {
      "cell_type": "code",
      "source": [
        "# Check for missing values\n",
        "print(\"Missing Values:\")\n",
        "print(df.isnull().sum())"
      ],
      "metadata": {
        "trusted": true,
        "execution": {
          "iopub.status.busy": "2025-01-08T19:27:02.203354Z",
          "iopub.execute_input": "2025-01-08T19:27:02.203748Z",
          "iopub.status.idle": "2025-01-08T19:27:02.211764Z",
          "shell.execute_reply.started": "2025-01-08T19:27:02.203716Z",
          "shell.execute_reply": "2025-01-08T19:27:02.210652Z"
        },
        "id": "s2TMPdclbRuL"
      },
      "outputs": [],
      "execution_count": null
    },
    {
      "cell_type": "code",
      "source": [
        "# basic statistics\n",
        "print(\"Summary Statistics:\")\n",
        "print(df.describe())"
      ],
      "metadata": {
        "trusted": true,
        "execution": {
          "iopub.status.busy": "2025-01-08T19:27:06.452183Z",
          "iopub.execute_input": "2025-01-08T19:27:06.452575Z",
          "iopub.status.idle": "2025-01-08T19:27:06.504076Z",
          "shell.execute_reply.started": "2025-01-08T19:27:06.452509Z",
          "shell.execute_reply": "2025-01-08T19:27:06.502949Z"
        },
        "id": "GwCs0VqAbRuM"
      },
      "outputs": [],
      "execution_count": null
    },
    {
      "cell_type": "code",
      "source": [
        "# Checking for duplicates\n",
        "duplicates = df.duplicated().sum()\n",
        "print(f\"Number of duplicate rows: {duplicates}\")"
      ],
      "metadata": {
        "trusted": true,
        "execution": {
          "iopub.status.busy": "2025-01-08T19:27:13.470898Z",
          "iopub.execute_input": "2025-01-08T19:27:13.471234Z",
          "iopub.status.idle": "2025-01-08T19:27:13.482361Z",
          "shell.execute_reply.started": "2025-01-08T19:27:13.471191Z",
          "shell.execute_reply": "2025-01-08T19:27:13.481245Z"
        },
        "id": "_9iF6xOebRuN"
      },
      "outputs": [],
      "execution_count": null
    },
    {
      "cell_type": "code",
      "source": [
        "# # Drop duplicates if any\n",
        "# if duplicates > 0:\n",
        "#     df = df.drop_duplicates()\n",
        "#     print(\"Duplicates removed.\")"
      ],
      "metadata": {
        "trusted": true,
        "execution": {
          "iopub.status.busy": "2025-01-08T19:27:16.499108Z",
          "iopub.execute_input": "2025-01-08T19:27:16.499603Z",
          "iopub.status.idle": "2025-01-08T19:27:16.504237Z",
          "shell.execute_reply.started": "2025-01-08T19:27:16.499524Z",
          "shell.execute_reply": "2025-01-08T19:27:16.503079Z"
        },
        "id": "Ogw1r_jMbRuO"
      },
      "outputs": [],
      "execution_count": null
    },
    {
      "cell_type": "code",
      "source": [
        "# Handle missing values\n",
        "missing_percentage = (df.isnull().sum() / len(df)) * 100\n",
        "print(\"Missing Value Percentage by Column:\")\n",
        "print(missing_percentage)"
      ],
      "metadata": {
        "trusted": true,
        "execution": {
          "iopub.status.busy": "2025-01-08T19:27:30.13185Z",
          "iopub.execute_input": "2025-01-08T19:27:30.132183Z",
          "iopub.status.idle": "2025-01-08T19:27:30.141889Z",
          "shell.execute_reply.started": "2025-01-08T19:27:30.132158Z",
          "shell.execute_reply": "2025-01-08T19:27:30.140689Z"
        },
        "id": "D8gkjC1SbRuP"
      },
      "outputs": [],
      "execution_count": null
    },
    {
      "cell_type": "code",
      "source": [
        "# Drop columns with >60% missing values\n",
        "# threshold = 60\n",
        "# cols_to_drop = missing_percentage[missing_percentage > threshold].index\n",
        "# data = data.drop(columns=cols_to_drop)\n",
        "\n",
        "# print(f\"Columns dropped: {list(cols_to_drop)}\")"
      ],
      "metadata": {
        "trusted": true,
        "execution": {
          "iopub.status.busy": "2025-01-08T19:24:13.164324Z",
          "iopub.execute_input": "2025-01-08T19:24:13.164703Z",
          "iopub.status.idle": "2025-01-08T19:24:13.168703Z",
          "shell.execute_reply.started": "2025-01-08T19:24:13.164672Z",
          "shell.execute_reply": "2025-01-08T19:24:13.167694Z"
        },
        "id": "oD6dBlffbRuP"
      },
      "outputs": [],
      "execution_count": null
    },
    {
      "cell_type": "code",
      "source": [
        "# Univariate Analysis\n",
        "# Histogram of numerical features\n",
        "numerical_columns = df.select_dtypes(include=['float64', 'int64']).columns\n",
        "\n",
        "# Plot histograms\n",
        "for col in numerical_columns:\n",
        "    plt.figure(figsize=(8, 4))\n",
        "    sns.histplot(df[col], kde=True, bins=30)\n",
        "    plt.title(f\"Distribution of {col}\")\n",
        "    plt.xlabel(col)\n",
        "    plt.ylabel(\"Frequency\")\n",
        "    plt.show()"
      ],
      "metadata": {
        "trusted": true,
        "execution": {
          "iopub.status.busy": "2025-01-08T19:27:45.731267Z",
          "iopub.execute_input": "2025-01-08T19:27:45.73165Z",
          "iopub.status.idle": "2025-01-08T19:27:52.462837Z",
          "shell.execute_reply.started": "2025-01-08T19:27:45.731612Z",
          "shell.execute_reply": "2025-01-08T19:27:52.46179Z"
        },
        "id": "CmptfLeebRuQ"
      },
      "outputs": [],
      "execution_count": null
    },
    {
      "cell_type": "code",
      "source": [
        "# # Correlation heatmap\n",
        "numerical_df = df.select_dtypes(include=['float64', 'int64'])\n",
        "\n",
        "plt.figure(figsize=(12, 8))\n",
        "corr_matrix = numerical_df.corr()\n",
        "sns.heatmap(corr_matrix,annot=True, cmap='coolwarm', fmt='.2f')\n",
        "plt.title(\"Correlation Heatmap\")\n",
        "plt.show()"
      ],
      "metadata": {
        "trusted": true,
        "execution": {
          "iopub.status.busy": "2025-01-08T19:29:00.194416Z",
          "iopub.execute_input": "2025-01-08T19:29:00.194875Z",
          "iopub.status.idle": "2025-01-08T19:29:01.483494Z",
          "shell.execute_reply.started": "2025-01-08T19:29:00.194821Z",
          "shell.execute_reply": "2025-01-08T19:29:01.482319Z"
        },
        "id": "JwvWUcxIbRuQ"
      },
      "outputs": [],
      "execution_count": null
    },
    {
      "cell_type": "code",
      "source": [
        "# Trend Over Time Access to electricity (% of population)\n",
        "if 'Year' in df.columns:\n",
        "    temporal_columns = ['Access to electricity (% of population)',\n",
        "                        'Renewable energy share in total final energy consumption (%)',\n",
        "                        'Value_co2_emissions (metric tons per capita)']\n",
        "    for col in temporal_columns:\n",
        "        if col in df.columns:\n",
        "            plt.figure(figsize=(10, 5))\n",
        "            sns.lineplot(data=df, x='Year', y=col)\n",
        "            plt.title(f\"Trend Over Time: {col}\")\n",
        "            plt.xlabel(\"Year\")\n",
        "            plt.ylabel(col)\n",
        "            plt.show()\n"
      ],
      "metadata": {
        "trusted": true,
        "execution": {
          "iopub.status.busy": "2025-01-08T19:30:06.03089Z",
          "iopub.execute_input": "2025-01-08T19:30:06.031221Z",
          "iopub.status.idle": "2025-01-08T19:30:06.763876Z",
          "shell.execute_reply.started": "2025-01-08T19:30:06.031195Z",
          "shell.execute_reply": "2025-01-08T19:30:06.762793Z"
        },
        "id": "2DqeHofHbRuQ"
      },
      "outputs": [],
      "execution_count": null
    },
    {
      "cell_type": "code",
      "source": [
        "# Primary Energy Consumption per Capita (kWh/person) over time.\n",
        "\n",
        "if 'Year' in df.columns and 'Primary energy consumption per capita (kWh/person)' in df.columns:\n",
        "    plt.figure(figsize=(12, 6))\n",
        "    sns.lineplot(data=df, x='Year', y='Primary energy consumption per capita (kWh/person)', errorbar=None)\n",
        "    plt.title(\"Trend: Primary Energy Consumption per Capita (2000-2020)\")\n",
        "    plt.xlabel(\"Year\")\n",
        "    plt.ylabel(\"Energy Consumption (kWh/person)\")\n",
        "    plt.grid(True)\n",
        "    plt.show()\n"
      ],
      "metadata": {
        "trusted": true,
        "execution": {
          "iopub.status.busy": "2025-01-08T19:31:08.691697Z",
          "iopub.execute_input": "2025-01-08T19:31:08.692079Z",
          "iopub.status.idle": "2025-01-08T19:31:09.0144Z",
          "shell.execute_reply.started": "2025-01-08T19:31:08.692052Z",
          "shell.execute_reply": "2025-01-08T19:31:09.013305Z"
        },
        "id": "-oqkkZHebRuR"
      },
      "outputs": [],
      "execution_count": null
    },
    {
      "cell_type": "code",
      "source": [
        "if 'Year' in df.columns and 'Financial flows to developing countries (US $)' in df.columns:\n",
        "    plt.figure(figsize=(12, 6))\n",
        "    sns.lineplot(data=df, x='Year', y='Financial flows to developing countries (US $)')\n",
        "    plt.title(\"Trend: Financial Flows to Developing Countries for Clean Energy Projects\")\n",
        "    plt.xlabel(\"Year\")\n",
        "    plt.ylabel(\"Financial Flows (US $)\")\n",
        "    plt.grid(True)\n",
        "    plt.show()\n"
      ],
      "metadata": {
        "trusted": true,
        "execution": {
          "iopub.status.busy": "2025-01-08T19:32:16.851916Z",
          "iopub.execute_input": "2025-01-08T19:32:16.852288Z",
          "iopub.status.idle": "2025-01-08T19:32:17.562182Z",
          "shell.execute_reply.started": "2025-01-08T19:32:16.852256Z",
          "shell.execute_reply": "2025-01-08T19:32:17.561114Z"
        },
        "id": "wvtQn0JObRuR"
      },
      "outputs": [],
      "execution_count": null
    },
    {
      "cell_type": "code",
      "source": [
        "import geopandas as gpd\n",
        "import folium\n",
        "from folium.plugins import MarkerCluster\n",
        "\n",
        "# map for Access to Electricity\n",
        "if 'Latitude' in df.columns and 'Longitude' in df.columns:\n",
        "    map_data = df.dropna(subset=['Latitude', 'Longitude', 'Access to electricity (% of population)'])\n",
        "\n",
        "    m = folium.Map(location=[0, 0], zoom_start=2)\n",
        "    marker_cluster = MarkerCluster().add_to(m)\n",
        "\n",
        "    for _, row in map_data.iterrows():\n",
        "        folium.CircleMarker(\n",
        "            location=[row['Latitude'], row['Longitude']],\n",
        "            radius=5,\n",
        "            color='blue',\n",
        "            fill=True,\n",
        "            fill_opacity=0.6,\n",
        "            popup=f\"{row['Entity']}: {row['Access to electricity (% of population)']}%\"\n",
        "        ).add_to(marker_cluster)\n",
        "\n",
        "    # Display the map inline\n",
        "    display(m)\n"
      ],
      "metadata": {
        "trusted": true,
        "execution": {
          "iopub.status.busy": "2025-01-08T19:34:21.545306Z",
          "iopub.execute_input": "2025-01-08T19:34:21.54572Z",
          "iopub.status.idle": "2025-01-08T19:34:27.876618Z",
          "shell.execute_reply.started": "2025-01-08T19:34:21.545672Z",
          "shell.execute_reply": "2025-01-08T19:34:27.874915Z"
        },
        "id": "MpzfYfeBbRuR"
      },
      "outputs": [],
      "execution_count": null
    },
    {
      "cell_type": "code",
      "source": [
        "# Drop rows with any NaN values or empty rows\n",
        "df_cleaned = df.dropna(how='any', axis=0)\n",
        "\n",
        "# Verify the cleaned dataframe\n",
        "print(f\"Original DataFrame shape: {df.shape}\")\n",
        "print(f\"Cleaned DataFrame shape: {df_cleaned.shape}\")\n"
      ],
      "metadata": {
        "trusted": true,
        "execution": {
          "iopub.status.busy": "2025-01-08T19:42:35.616154Z",
          "iopub.execute_input": "2025-01-08T19:42:35.616487Z",
          "iopub.status.idle": "2025-01-08T19:42:35.625248Z",
          "shell.execute_reply.started": "2025-01-08T19:42:35.616458Z",
          "shell.execute_reply": "2025-01-08T19:42:35.62406Z"
        },
        "id": "AhPH0lwvbRuR"
      },
      "outputs": [],
      "execution_count": null
    },
    {
      "cell_type": "markdown",
      "source": [
        "**Regression Model (Energy Consumption Prediction)**"
      ],
      "metadata": {
        "id": "TdyTqDHPbRuS"
      }
    },
    {
      "cell_type": "code",
      "source": [
        "from sklearn.model_selection import train_test_split\n",
        "from sklearn.preprocessing import MinMaxScaler, LabelEncoder\n",
        "\n",
        "# Relevant columns for regression (Energy Consumption Prediction)\n",
        "features = [\n",
        "    'Access to electricity (% of population)',\n",
        "    'Renewables (% equivalent primary energy)',\n",
        "    'gdp_per_capita',\n",
        "    'Value_co2_emissions_kt_by_country',\n",
        "    'Year'\n",
        "]\n",
        "\n",
        "target_ECP = \"Primary energy consumption per capita (kWh/person)\"\n",
        "\n",
        "# Relevant columns for classification (Access to Electricity)\n",
        "target_AE = 'Access to electricity (% of population)'\n"
      ],
      "metadata": {
        "trusted": true,
        "execution": {
          "iopub.status.busy": "2025-01-08T19:59:13.139151Z",
          "iopub.execute_input": "2025-01-08T19:59:13.139502Z",
          "iopub.status.idle": "2025-01-08T19:59:13.144621Z",
          "shell.execute_reply.started": "2025-01-08T19:59:13.139476Z",
          "shell.execute_reply": "2025-01-08T19:59:13.143631Z"
        },
        "id": "qZ-C939vbRuS"
      },
      "outputs": [],
      "execution_count": null
    },
    {
      "cell_type": "code",
      "source": [
        "# Drop rows with missing target values\n",
        "Energy_Consumption = df.dropna(subset=features + [target_ECP])\n",
        "Access_to_electricity = df.dropna(subset=features + [target_AE])\n",
        "\n",
        "# print(f\"Energy_Consumption DataFrame shape: {Energy_Consumption.shape}\")\n",
        "# print(f\"Access_to_electricity DataFrame shape: {Access_to_electricity.shape}\")"
      ],
      "metadata": {
        "trusted": true,
        "execution": {
          "iopub.status.busy": "2025-01-08T20:02:38.826189Z",
          "iopub.execute_input": "2025-01-08T20:02:38.826558Z",
          "iopub.status.idle": "2025-01-08T20:02:38.836868Z",
          "shell.execute_reply.started": "2025-01-08T20:02:38.826509Z",
          "shell.execute_reply": "2025-01-08T20:02:38.835689Z"
        },
        "id": "Ix4fQhVsbRuS"
      },
      "outputs": [],
      "execution_count": null
    },
    {
      "cell_type": "code",
      "source": [
        "print(df.shape)"
      ],
      "metadata": {
        "trusted": true,
        "execution": {
          "iopub.status.busy": "2025-01-08T20:02:44.877263Z",
          "iopub.execute_input": "2025-01-08T20:02:44.877619Z",
          "iopub.status.idle": "2025-01-08T20:02:44.882769Z",
          "shell.execute_reply.started": "2025-01-08T20:02:44.87759Z",
          "shell.execute_reply": "2025-01-08T20:02:44.881788Z"
        },
        "id": "pv9LODDVbRuS"
      },
      "outputs": [],
      "execution_count": null
    },
    {
      "cell_type": "code",
      "source": [
        "# Encode Access to Electricity target into categories\n",
        "Access_to_electricity['Access_Category'] = pd.cut(\n",
        "    Access_to_electricity[target_AE],\n",
        "    bins=[0, 50, 80, 100],\n",
        "    labels=['Low', 'Medium', 'High']\n",
        ")"
      ],
      "metadata": {
        "trusted": true,
        "execution": {
          "iopub.status.busy": "2025-01-08T20:03:17.243949Z",
          "iopub.execute_input": "2025-01-08T20:03:17.244284Z",
          "iopub.status.idle": "2025-01-08T20:03:17.251841Z",
          "shell.execute_reply.started": "2025-01-08T20:03:17.244255Z",
          "shell.execute_reply": "2025-01-08T20:03:17.25077Z"
        },
        "id": "rOrsssgbbRuT"
      },
      "outputs": [],
      "execution_count": null
    },
    {
      "cell_type": "code",
      "source": [
        "# Features and target for regression\n",
        "X_reg = Energy_Consumption[features]\n",
        "y_reg = Energy_Consumption[target_ECP]\n",
        "\n",
        "# Split data into training and testing sets (80/20 split)\n",
        "X_train_reg, X_test_reg, y_train_reg, y_test_reg = train_test_split(X_reg, y_reg, test_size=0.2, random_state=42)\n",
        "\n",
        "# Normalize the features using MinMaxScaler\n",
        "scaler = MinMaxScaler()\n",
        "X_train_reg_scaled = scaler.fit_transform(X_train_reg)\n",
        "X_test_reg_scaled = scaler.transform(X_test_reg)"
      ],
      "metadata": {
        "trusted": true,
        "execution": {
          "iopub.status.busy": "2025-01-08T20:04:04.460708Z",
          "iopub.execute_input": "2025-01-08T20:04:04.461042Z",
          "iopub.status.idle": "2025-01-08T20:04:04.473556Z",
          "shell.execute_reply.started": "2025-01-08T20:04:04.461016Z",
          "shell.execute_reply": "2025-01-08T20:04:04.472501Z"
        },
        "id": "eAks1smObRuT"
      },
      "outputs": [],
      "execution_count": null
    },
    {
      "cell_type": "markdown",
      "source": [
        "A **random forest** is an ensemble learning method that combines the predictions from multiple decision trees to produce a more accurate and stable prediction. It is a type of supervised learning algorithm that can be used for both classification and regression tasks in this case its regression"
      ],
      "metadata": {
        "id": "uHcg9GNCbRuT"
      }
    },
    {
      "cell_type": "code",
      "source": [
        "from sklearn.ensemble import RandomForestRegressor\n",
        "from sklearn.metrics import mean_absolute_error, mean_squared_error, r2_score\n",
        "\n",
        "# Initialize the Random Forest Regressor\n",
        "rf_model = RandomForestRegressor(n_estimators=100, random_state=42)\n",
        "\n",
        "# Train the model\n",
        "rf_model.fit(X_train_reg_scaled, y_train_reg)\n"
      ],
      "metadata": {
        "trusted": true,
        "execution": {
          "iopub.status.busy": "2025-01-08T20:08:22.432957Z",
          "iopub.execute_input": "2025-01-08T20:08:22.433363Z",
          "iopub.status.idle": "2025-01-08T20:08:23.310932Z",
          "shell.execute_reply.started": "2025-01-08T20:08:22.433327Z",
          "shell.execute_reply": "2025-01-08T20:08:23.309811Z"
        },
        "id": "5l9SEPlXbRuT"
      },
      "outputs": [],
      "execution_count": null
    },
    {
      "cell_type": "code",
      "source": [
        "\n",
        "# Make predictions on the test set\n",
        "y_pred_reg = rf_model.predict(X_test_reg_scaled)\n",
        "\n",
        "# Evaluate the model\n",
        "mae = mean_absolute_error(y_test_reg, y_pred_reg)\n",
        "mse = mean_squared_error(y_test_reg, y_pred_reg)\n",
        "r2 = r2_score(y_test_reg, y_pred_reg)\n",
        "\n",
        "print(f\"Random Forest Regressor Performance:\")\n",
        "print(f\"Mean Absolute Error (MAE): {mae}\")\n",
        "print(f\"Mean Squared Error (MSE): {mse}\")\n",
        "print(f\"R-squared (R2) Score: {r2}\")\n"
      ],
      "metadata": {
        "trusted": true,
        "execution": {
          "iopub.status.busy": "2025-01-08T20:08:54.8141Z",
          "iopub.execute_input": "2025-01-08T20:08:54.814466Z",
          "iopub.status.idle": "2025-01-08T20:08:54.835815Z",
          "shell.execute_reply.started": "2025-01-08T20:08:54.814437Z",
          "shell.execute_reply": "2025-01-08T20:08:54.834684Z"
        },
        "id": "w6c9lPFDbRuT"
      },
      "outputs": [],
      "execution_count": null
    },
    {
      "cell_type": "code",
      "source": [
        "# Get feature importances on energy consumption prediction\n",
        "importances = rf_model.feature_importances_\n",
        "\n",
        "# Create a DataFrame to display feature importances\n",
        "importances_df = pd.DataFrame({\n",
        "    'Feature': features,\n",
        "    'Importance': importances\n",
        "})\n",
        "\n",
        "# Sort the importances in descending order\n",
        "importances_df = importances_df.sort_values(by='Importance', ascending=False)\n",
        "\n",
        "# Plot the feature importances\n",
        "plt.figure(figsize=(10, 6))\n",
        "sns.barplot(x='Importance', y='Feature', data=importances_df)\n",
        "plt.title(\"Feature Importances for Energy Consumption Prediction\")\n",
        "plt.show()\n"
      ],
      "metadata": {
        "trusted": true,
        "execution": {
          "iopub.status.busy": "2025-01-08T20:12:34.885218Z",
          "iopub.execute_input": "2025-01-08T20:12:34.885611Z",
          "iopub.status.idle": "2025-01-08T20:12:35.142757Z",
          "shell.execute_reply.started": "2025-01-08T20:12:34.885553Z",
          "shell.execute_reply": "2025-01-08T20:12:35.141709Z"
        },
        "id": "Py1uyk97bRuU"
      },
      "outputs": [],
      "execution_count": null
    },
    {
      "cell_type": "code",
      "source": [
        "# df.head()"
      ],
      "metadata": {
        "trusted": true,
        "execution": {
          "iopub.status.busy": "2025-01-07T22:18:20.606161Z",
          "iopub.execute_input": "2025-01-07T22:18:20.606596Z",
          "iopub.status.idle": "2025-01-07T22:18:20.610891Z",
          "shell.execute_reply.started": "2025-01-07T22:18:20.606548Z",
          "shell.execute_reply": "2025-01-07T22:18:20.609876Z"
        },
        "id": "VG_XHIv6bRuU"
      },
      "outputs": [],
      "execution_count": null
    },
    {
      "cell_type": "code",
      "source": [
        "# List of features to plot over the years\n",
        "features_to_plot = [\n",
        "    'Access to electricity (% of population)',\n",
        "    'Access to clean fuels for cooking',\n",
        "    'Renewables (% equivalent primary energy)',\n",
        "    'Value_co2_emissions_kt_by_country',\n",
        "    'Primary energy consumption per capita (kWh/person)',\n",
        "    'gdp_per_capita'\n",
        "]\n",
        "\n",
        "# Aggregate data by year\n",
        "data_by_year = df.groupby('Year')[features_to_plot].mean().reset_index()"
      ],
      "metadata": {
        "trusted": true,
        "execution": {
          "iopub.status.busy": "2025-01-08T20:22:18.339688Z",
          "iopub.execute_input": "2025-01-08T20:22:18.340029Z",
          "iopub.status.idle": "2025-01-08T20:22:18.348436Z",
          "shell.execute_reply.started": "2025-01-08T20:22:18.339995Z",
          "shell.execute_reply": "2025-01-08T20:22:18.347613Z"
        },
        "id": "DlpTdm76bRuU"
      },
      "outputs": [],
      "execution_count": null
    },
    {
      "cell_type": "code",
      "source": [
        "# Set style for plots\n",
        "sns.set(style=\"whitegrid\")\n",
        "\n",
        "# Plot each feature over the years\n",
        "fig, axes = plt.subplots(nrows=3, ncols=2, figsize=(20, 20))\n",
        "axes = axes.flatten()\n",
        "\n",
        "for i, feature in enumerate(features_to_plot):\n",
        "    sns.lineplot(data=data_by_year, x='Year', y=feature, ax=axes[i])\n",
        "    axes[i].set_title(f\"Trend of {feature} Over Years\", fontsize=14)\n",
        "    axes[i].set_ylabel(feature, fontsize=12)\n",
        "    axes[i].set_xlabel(\"Year\", fontsize=12)\n",
        "\n",
        "# Remove empty subplot\n",
        "if len(features_to_plot) % 2 != 0:\n",
        "    fig.delaxes(axes[-2])\n",
        "\n",
        "plt.tight_layout()\n",
        "plt.show()\n"
      ],
      "metadata": {
        "trusted": true,
        "execution": {
          "iopub.status.busy": "2025-01-08T20:22:22.051587Z",
          "iopub.execute_input": "2025-01-08T20:22:22.051931Z",
          "iopub.status.idle": "2025-01-08T20:22:24.290478Z",
          "shell.execute_reply.started": "2025-01-08T20:22:22.051902Z",
          "shell.execute_reply": "2025-01-08T20:22:24.289306Z"
        },
        "id": "Y1sYZ9zZbRuU"
      },
      "outputs": [],
      "execution_count": null
    },
    {
      "cell_type": "markdown",
      "source": [
        "**Access to Electricity **"
      ],
      "metadata": {
        "id": "PUIkringbRuV"
      }
    },
    {
      "cell_type": "code",
      "source": [
        "# Split Access to Electricity\n",
        "X_clf = Access_to_electricity[features]\n",
        "y_clf = Access_to_electricity['Access_Category']\n",
        "X_train_clf, X_test_clf, y_train_clf, y_test_clf = train_test_split(X_clf, y_clf, test_size=0.2, random_state=42)"
      ],
      "metadata": {
        "trusted": true,
        "execution": {
          "iopub.status.busy": "2025-01-08T20:27:08.806202Z",
          "iopub.execute_input": "2025-01-08T20:27:08.806567Z",
          "iopub.status.idle": "2025-01-08T20:27:08.815467Z",
          "shell.execute_reply.started": "2025-01-08T20:27:08.806514Z",
          "shell.execute_reply": "2025-01-08T20:27:08.814295Z"
        },
        "id": "reN4w_L5bRuV"
      },
      "outputs": [],
      "execution_count": null
    },
    {
      "cell_type": "code",
      "source": [
        "from sklearn.preprocessing import LabelEncoder, StandardScaler\n",
        "from tensorflow.keras.models import Sequential\n",
        "from tensorflow.keras.layers import Dense, Dropout\n",
        "from tensorflow.keras.optimizers import Adam\n",
        "from tensorflow.keras.callbacks import ReduceLROnPlateau"
      ],
      "metadata": {
        "trusted": true,
        "execution": {
          "iopub.status.busy": "2025-01-08T20:27:50.266234Z",
          "iopub.execute_input": "2025-01-08T20:27:50.266603Z",
          "iopub.status.idle": "2025-01-08T20:28:00.106731Z",
          "shell.execute_reply.started": "2025-01-08T20:27:50.266559Z",
          "shell.execute_reply": "2025-01-08T20:28:00.105777Z"
        },
        "id": "Q1YaTCh1bRuV"
      },
      "outputs": [],
      "execution_count": null
    },
    {
      "cell_type": "code",
      "source": [
        "# Encode labels\n",
        "label_encoder = LabelEncoder()\n",
        "y_train_clf = label_encoder.fit_transform(y_train_clf)\n",
        "y_test_clf = label_encoder.transform(y_test_clf)\n",
        "\n",
        "# Normalize input features\n",
        "scaler = StandardScaler()\n",
        "X_train_clf = scaler.fit_transform(X_train_clf)\n",
        "X_test_clf = scaler.transform(X_test_clf)"
      ],
      "metadata": {
        "trusted": true,
        "execution": {
          "iopub.status.busy": "2025-01-08T20:30:09.370388Z",
          "iopub.execute_input": "2025-01-08T20:30:09.370854Z",
          "iopub.status.idle": "2025-01-08T20:30:09.380469Z",
          "shell.execute_reply.started": "2025-01-08T20:30:09.370808Z",
          "shell.execute_reply": "2025-01-08T20:30:09.378902Z"
        },
        "id": "CMgWImlObRuV"
      },
      "outputs": [],
      "execution_count": null
    },
    {
      "cell_type": "code",
      "source": [
        "# 3-layer neural network with Dropout for regularization.\n",
        "# Build the classification model with Dropout layers\n",
        "clf_model = Sequential([\n",
        "    Dense(64, activation='relu', input_shape=(X_train_clf.shape[1],)),\n",
        "    Dropout(0.3),  # Dropout layer to reduce overfitting\n",
        "    Dense(32, activation='relu'),\n",
        "    Dropout(0.3),\n",
        "    Dense(16, activation='relu'),\n",
        "    Dense(3, activation='softmax')  # Output layer for 3 categories\n",
        "])\n",
        "\n",
        "# Compile the model with an adjusted learning rate\n",
        "optimizer = Adam(learning_rate=0.001)\n",
        "clf_model.compile(optimizer=optimizer, loss='sparse_categorical_crossentropy', metrics=['accuracy'])\n",
        "\n",
        "# Add a learning rate scheduler\n",
        "lr_scheduler = ReduceLROnPlateau(\n",
        "    monitor='val_loss',\n",
        "    factor=0.5,\n",
        "    patience=5,\n",
        "    verbose=1,\n",
        "    min_lr=0.01\n",
        ")\n"
      ],
      "metadata": {
        "trusted": true,
        "execution": {
          "iopub.status.busy": "2025-01-08T20:50:09.986425Z",
          "iopub.execute_input": "2025-01-08T20:50:09.986876Z",
          "iopub.status.idle": "2025-01-08T20:50:10.049176Z",
          "shell.execute_reply.started": "2025-01-08T20:50:09.986834Z",
          "shell.execute_reply": "2025-01-08T20:50:10.047649Z"
        },
        "id": "x64VoFJNbRuV"
      },
      "outputs": [],
      "execution_count": null
    },
    {
      "cell_type": "code",
      "source": [
        "# Train the model\n",
        "history_clf = clf_model.fit(\n",
        "    X_train_clf, y_train_clf,\n",
        "    epochs=20,\n",
        "    batch_size=16,\n",
        "    validation_split=0.2,\n",
        "    verbose=1,\n",
        "    callbacks=[lr_scheduler]\n",
        ")\n",
        "\n",
        "# Evaluate the model\n",
        "loss_clf, accuracy_clf = clf_model.evaluate(X_test_clf, y_test_clf, verbose=1)\n",
        "print(f\"Test Accuracy: {accuracy_clf * 100:.2f}%\")\n",
        "\n",
        "# Predict and decode labels\n",
        "y_pred_clf = clf_model.predict(X_test_clf)\n",
        "y_pred_labels = label_encoder.inverse_transform(np.argmax(y_pred_clf, axis=1))\n",
        "\n",
        "# Display predictions\n",
        "print(\"Predicted Labels:\", y_pred_labels[:10])\n",
        "print(\"True Labels:\", label_encoder.inverse_transform(y_test_clf[:10]))\n"
      ],
      "metadata": {
        "trusted": true,
        "execution": {
          "iopub.status.busy": "2025-01-08T20:50:13.518198Z",
          "iopub.execute_input": "2025-01-08T20:50:13.518682Z",
          "iopub.status.idle": "2025-01-08T20:50:20.509209Z",
          "shell.execute_reply.started": "2025-01-08T20:50:13.518641Z",
          "shell.execute_reply": "2025-01-08T20:50:20.50772Z"
        },
        "id": "vzz63Em0bRuW"
      },
      "outputs": [],
      "execution_count": null
    },
    {
      "cell_type": "code",
      "source": [
        "# accuracy and loss over epochs\n",
        "plt.figure(figsize=(12, 5))\n",
        "\n",
        "# Accuracy plot\n",
        "plt.subplot(1, 2, 1)\n",
        "plt.plot(history_clf.history['accuracy'], label='Train Accuracy')\n",
        "plt.plot(history_clf.history['val_accuracy'], label='Validation Accuracy')\n",
        "plt.xlabel('Epochs')\n",
        "plt.ylabel('Accuracy')\n",
        "plt.legend()\n",
        "plt.title('Accuracy over Epochs')\n",
        "\n",
        "# Loss plot\n",
        "plt.subplot(1, 2, 2)\n",
        "plt.plot(history_clf.history['loss'], label='Train Loss')\n",
        "plt.plot(history_clf.history['val_loss'], label='Validation Loss')\n",
        "plt.xlabel('Epochs')\n",
        "plt.ylabel('Loss')\n",
        "plt.legend()\n",
        "plt.title('Loss over Epochs')\n",
        "\n",
        "plt.show()"
      ],
      "metadata": {
        "trusted": true,
        "execution": {
          "iopub.status.busy": "2025-01-08T20:50:35.197366Z",
          "iopub.execute_input": "2025-01-08T20:50:35.197847Z",
          "iopub.status.idle": "2025-01-08T20:50:35.894754Z",
          "shell.execute_reply.started": "2025-01-08T20:50:35.197803Z",
          "shell.execute_reply": "2025-01-08T20:50:35.893262Z"
        },
        "id": "iMpo9GFdbRuW"
      },
      "outputs": [],
      "execution_count": null
    },
    {
      "cell_type": "code",
      "source": [
        "from sklearn.metrics import confusion_matrix, classification_report\n",
        "\n",
        "# Generate confusion matrix\n",
        "cm = confusion_matrix(y_test_clf, np.argmax(y_pred_clf, axis=1))\n",
        "\n",
        "# Plot confusion matrix\n",
        "plt.figure(figsize=(8, 6))\n",
        "sns.heatmap(cm, annot=True, fmt='d', cmap='Blues', xticklabels=label_encoder.classes_, yticklabels=label_encoder.classes_)\n",
        "plt.xlabel('Predicted')\n",
        "plt.ylabel('True')\n",
        "plt.title('Confusion Matrix')\n",
        "plt.show()\n"
      ],
      "metadata": {
        "trusted": true,
        "execution": {
          "iopub.status.busy": "2025-01-08T20:50:52.034908Z",
          "iopub.execute_input": "2025-01-08T20:50:52.035331Z",
          "iopub.status.idle": "2025-01-08T20:50:52.360687Z",
          "shell.execute_reply.started": "2025-01-08T20:50:52.035297Z",
          "shell.execute_reply": "2025-01-08T20:50:52.359517Z"
        },
        "id": "iHxmQYTzbRuc"
      },
      "outputs": [],
      "execution_count": null
    },
    {
      "cell_type": "code",
      "source": [
        "import shap\n",
        "\n",
        "# SHAP explanation\n",
        "explainer = shap.KernelExplainer(clf_model.predict, X_test_clf)\n",
        "shap_values = explainer.shap_values(X_test_clf[:10])  # Explain for a subset\n",
        "\n",
        "# Summary plot\n",
        "shap.summary_plot(shap_values, X_test_clf[:10], feature_names=features)\n"
      ],
      "metadata": {
        "trusted": true,
        "execution": {
          "iopub.status.busy": "2025-01-08T20:46:04.272677Z",
          "iopub.execute_input": "2025-01-08T20:46:04.273015Z",
          "iopub.status.idle": "2025-01-08T20:46:16.028625Z",
          "shell.execute_reply.started": "2025-01-08T20:46:04.272989Z",
          "shell.execute_reply": "2025-01-08T20:46:16.027259Z"
        },
        "id": "6iNRQqJJbRud"
      },
      "outputs": [],
      "execution_count": null
    },
    {
      "cell_type": "markdown",
      "source": [
        "Access to electricity is the most influential for the models decision"
      ],
      "metadata": {
        "id": "iv6qzxQUbRue"
      }
    },
    {
      "cell_type": "markdown",
      "source": [
        "# Final Report: Global Data on Sustainable Energy (2000-2020)\n",
        "\n",
        "## Overview\n",
        "This report provides an deep analysis of sustainable energy indicators from 2000 to 2020. Key metrics such as electricity access, renewable energy usage, carbon emissions, and energy intensity are explored to track progress towards Sustainable Development Goal 7.\n",
        "\n",
        "## Key Observations\n",
        "1. **Access to Electricity**: Significant progress has been made globally, especially in developing countries.\n",
        "2. **Clean Cooking Fuels**: Access to clean cooking fuels has improved steadily but remains a challenge in low-income regions.\n",
        "3. **Renewable Energy**: Adoption of renewable energy has increased, reflecting global efforts to reduce reliance on fossil fuels.\n",
        "4. **Carbon Emissions**: While carbon emissions have fluctuated, some reduction is observed in later years due to renewable energy growth.\n",
        "5. **Energy Consumption**: Energy consumption per capita shows an upward trend, aligning with economic and population growth.\n"
      ],
      "metadata": {
        "id": "UVXaTjgcbRuf"
      }
    }
  ]
}